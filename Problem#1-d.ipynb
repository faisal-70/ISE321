{
 "cells": [
  {
   "cell_type": "code",
   "execution_count": 6,
   "metadata": {},
   "outputs": [],
   "source": [
    "file = open('6.txt')\n",
    "lines = file.readlines()\n",
    "file.close()\n",
    "cost_matrix =[]\n",
    "\n",
    "for i in range(len(lines)):\n",
    "    aux = lines[i][:-1].split('\\t')\n",
    "    aux = [int(i) for i in aux if i!= '']\n",
    "    cost_matrix.append(aux)\n",
    "\n",
    "n = len(cost_matrix)"
   ]
  },
  {
   "cell_type": "code",
   "execution_count": 7,
   "metadata": {},
   "outputs": [],
   "source": [
    "import pyomo.environ as pyEnv"
   ]
  },
  {
   "cell_type": "code",
   "execution_count": 8,
   "metadata": {},
   "outputs": [
    {
     "data": {
      "text/plain": [
       "[[999, 10, 15, 22, 47, 48],\n",
       " [10, 999, 17, 25, 51, 51],\n",
       " [15, 17, 999, 10, 32, 30],\n",
       " [22, 25, 10, 999, 29, 25],\n",
       " [47, 51, 32, 29, 999, 10],\n",
       " [48, 51, 30, 25, 10, 999]]"
      ]
     },
     "execution_count": 8,
     "metadata": {},
     "output_type": "execute_result"
    }
   ],
   "source": [
    "cost_matrix"
   ]
  },
  {
   "cell_type": "code",
   "execution_count": 9,
   "metadata": {},
   "outputs": [],
   "source": [
    "#Model\n",
    "model = pyEnv.ConcreteModel()\n",
    "\n",
    "#Indexes for the cities\n",
    "model.M = pyEnv.RangeSet(n)                \n",
    "model.N = pyEnv.RangeSet(n)\n",
    "\n",
    "#Index for the dummy variable u\n",
    "model.U = pyEnv.RangeSet(2,n)"
   ]
  },
  {
   "cell_type": "code",
   "execution_count": 10,
   "metadata": {},
   "outputs": [],
   "source": [
    "#Decision variables xij\n",
    "model.x = pyEnv.Var(model.N,model.M, within=pyEnv.Binary)\n",
    "\n",
    "#Dummy variable ui\n",
    "model.u = pyEnv.Var(model.N, within=pyEnv.NonNegativeIntegers,bounds=(0,n-1))"
   ]
  },
  {
   "cell_type": "code",
   "execution_count": 11,
   "metadata": {},
   "outputs": [],
   "source": [
    "#Cost Matrix cij\n",
    "model.c = pyEnv.Param(model.N, model.M,initialize=lambda model, i, j: cost_matrix[i-1][j-1])"
   ]
  },
  {
   "cell_type": "code",
   "execution_count": 12,
   "metadata": {},
   "outputs": [],
   "source": [
    "def obj_func(model):\n",
    "    return sum(model.x[i,j] * model.c[i,j] for i in model.N for j in model.M)\n",
    "\n",
    "model.objective = pyEnv.Objective(rule=obj_func,sense=pyEnv.minimize)"
   ]
  },
  {
   "cell_type": "code",
   "execution_count": 13,
   "metadata": {},
   "outputs": [],
   "source": [
    "def rule_const1(model,M):\n",
    "    return sum(model.x[i,M] for i in model.N if i!=M ) == 1\n",
    "\n",
    "model.const1 = pyEnv.Constraint(model.M,rule=rule_const1)"
   ]
  },
  {
   "cell_type": "code",
   "execution_count": 14,
   "metadata": {},
   "outputs": [],
   "source": [
    "def rule_const2(model,N):\n",
    "    return sum(model.x[N,j] for j in model.M if j!=N) == 1\n",
    "\n",
    "model.rest2 = pyEnv.Constraint(model.N,rule=rule_const2)"
   ]
  },
  {
   "cell_type": "code",
   "execution_count": 15,
   "metadata": {},
   "outputs": [],
   "source": [
    "def rule_const3(model,i,j):\n",
    "    if i!=j: \n",
    "        return model.u[i] - model.u[j] + model.x[i,j] * n <= n-1\n",
    "    else:\n",
    "        #Yeah, this else doesn't say anything\n",
    "        return model.u[i] - model.u[i] == 0 \n",
    "    \n",
    "model.rest3 = pyEnv.Constraint(model.U,model.N,rule=rule_const3)"
   ]
  },
  {
   "cell_type": "code",
   "execution_count": 16,
   "metadata": {},
   "outputs": [
    {
     "name": "stdout",
     "output_type": "stream",
     "text": [
      "3 Set Declarations\n",
      "    c_index : Size=1, Index=None, Ordered=True\n",
      "        Key  : Dimen : Domain : Size : Members\n",
      "        None :     2 :    N*M :   36 : {(1, 1), (1, 2), (1, 3), (1, 4), (1, 5), (1, 6), (2, 1), (2, 2), (2, 3), (2, 4), (2, 5), (2, 6), (3, 1), (3, 2), (3, 3), (3, 4), (3, 5), (3, 6), (4, 1), (4, 2), (4, 3), (4, 4), (4, 5), (4, 6), (5, 1), (5, 2), (5, 3), (5, 4), (5, 5), (5, 6), (6, 1), (6, 2), (6, 3), (6, 4), (6, 5), (6, 6)}\n",
      "    rest3_index : Size=1, Index=None, Ordered=True\n",
      "        Key  : Dimen : Domain : Size : Members\n",
      "        None :     2 :    U*N :   30 : {(2, 1), (2, 2), (2, 3), (2, 4), (2, 5), (2, 6), (3, 1), (3, 2), (3, 3), (3, 4), (3, 5), (3, 6), (4, 1), (4, 2), (4, 3), (4, 4), (4, 5), (4, 6), (5, 1), (5, 2), (5, 3), (5, 4), (5, 5), (5, 6), (6, 1), (6, 2), (6, 3), (6, 4), (6, 5), (6, 6)}\n",
      "    x_index : Size=1, Index=None, Ordered=True\n",
      "        Key  : Dimen : Domain : Size : Members\n",
      "        None :     2 :    N*M :   36 : {(1, 1), (1, 2), (1, 3), (1, 4), (1, 5), (1, 6), (2, 1), (2, 2), (2, 3), (2, 4), (2, 5), (2, 6), (3, 1), (3, 2), (3, 3), (3, 4), (3, 5), (3, 6), (4, 1), (4, 2), (4, 3), (4, 4), (4, 5), (4, 6), (5, 1), (5, 2), (5, 3), (5, 4), (5, 5), (5, 6), (6, 1), (6, 2), (6, 3), (6, 4), (6, 5), (6, 6)}\n",
      "\n",
      "3 RangeSet Declarations\n",
      "    M : Dimen=1, Size=6, Bounds=(1, 6)\n",
      "        Key  : Finite : Members\n",
      "        None :   True :   [1:6]\n",
      "    N : Dimen=1, Size=6, Bounds=(1, 6)\n",
      "        Key  : Finite : Members\n",
      "        None :   True :   [1:6]\n",
      "    U : Dimen=1, Size=5, Bounds=(2, 6)\n",
      "        Key  : Finite : Members\n",
      "        None :   True :   [2:6]\n",
      "\n",
      "1 Param Declarations\n",
      "    c : Size=36, Index=c_index, Domain=Any, Default=None, Mutable=False\n",
      "        Key    : Value\n",
      "        (1, 1) :   999\n",
      "        (1, 2) :    10\n",
      "        (1, 3) :    15\n",
      "        (1, 4) :    22\n",
      "        (1, 5) :    47\n",
      "        (1, 6) :    48\n",
      "        (2, 1) :    10\n",
      "        (2, 2) :   999\n",
      "        (2, 3) :    17\n",
      "        (2, 4) :    25\n",
      "        (2, 5) :    51\n",
      "        (2, 6) :    51\n",
      "        (3, 1) :    15\n",
      "        (3, 2) :    17\n",
      "        (3, 3) :   999\n",
      "        (3, 4) :    10\n",
      "        (3, 5) :    32\n",
      "        (3, 6) :    30\n",
      "        (4, 1) :    22\n",
      "        (4, 2) :    25\n",
      "        (4, 3) :    10\n",
      "        (4, 4) :   999\n",
      "        (4, 5) :    29\n",
      "        (4, 6) :    25\n",
      "        (5, 1) :    47\n",
      "        (5, 2) :    51\n",
      "        (5, 3) :    32\n",
      "        (5, 4) :    29\n",
      "        (5, 5) :   999\n",
      "        (5, 6) :    10\n",
      "        (6, 1) :    48\n",
      "        (6, 2) :    51\n",
      "        (6, 3) :    30\n",
      "        (6, 4) :    25\n",
      "        (6, 5) :    10\n",
      "        (6, 6) :   999\n",
      "\n",
      "2 Var Declarations\n",
      "    u : Size=6, Index=N\n",
      "        Key : Lower : Value : Upper : Fixed : Stale : Domain\n",
      "          1 :     0 :  None :     5 : False :  True : NonNegativeIntegers\n",
      "          2 :     0 :  None :     5 : False :  True : NonNegativeIntegers\n",
      "          3 :     0 :  None :     5 : False :  True : NonNegativeIntegers\n",
      "          4 :     0 :  None :     5 : False :  True : NonNegativeIntegers\n",
      "          5 :     0 :  None :     5 : False :  True : NonNegativeIntegers\n",
      "          6 :     0 :  None :     5 : False :  True : NonNegativeIntegers\n",
      "    x : Size=36, Index=x_index\n",
      "        Key    : Lower : Value : Upper : Fixed : Stale : Domain\n",
      "        (1, 1) :     0 :  None :     1 : False :  True : Binary\n",
      "        (1, 2) :     0 :  None :     1 : False :  True : Binary\n",
      "        (1, 3) :     0 :  None :     1 : False :  True : Binary\n",
      "        (1, 4) :     0 :  None :     1 : False :  True : Binary\n",
      "        (1, 5) :     0 :  None :     1 : False :  True : Binary\n",
      "        (1, 6) :     0 :  None :     1 : False :  True : Binary\n",
      "        (2, 1) :     0 :  None :     1 : False :  True : Binary\n",
      "        (2, 2) :     0 :  None :     1 : False :  True : Binary\n",
      "        (2, 3) :     0 :  None :     1 : False :  True : Binary\n",
      "        (2, 4) :     0 :  None :     1 : False :  True : Binary\n",
      "        (2, 5) :     0 :  None :     1 : False :  True : Binary\n",
      "        (2, 6) :     0 :  None :     1 : False :  True : Binary\n",
      "        (3, 1) :     0 :  None :     1 : False :  True : Binary\n",
      "        (3, 2) :     0 :  None :     1 : False :  True : Binary\n",
      "        (3, 3) :     0 :  None :     1 : False :  True : Binary\n",
      "        (3, 4) :     0 :  None :     1 : False :  True : Binary\n",
      "        (3, 5) :     0 :  None :     1 : False :  True : Binary\n",
      "        (3, 6) :     0 :  None :     1 : False :  True : Binary\n",
      "        (4, 1) :     0 :  None :     1 : False :  True : Binary\n",
      "        (4, 2) :     0 :  None :     1 : False :  True : Binary\n",
      "        (4, 3) :     0 :  None :     1 : False :  True : Binary\n",
      "        (4, 4) :     0 :  None :     1 : False :  True : Binary\n",
      "        (4, 5) :     0 :  None :     1 : False :  True : Binary\n",
      "        (4, 6) :     0 :  None :     1 : False :  True : Binary\n",
      "        (5, 1) :     0 :  None :     1 : False :  True : Binary\n",
      "        (5, 2) :     0 :  None :     1 : False :  True : Binary\n",
      "        (5, 3) :     0 :  None :     1 : False :  True : Binary\n",
      "        (5, 4) :     0 :  None :     1 : False :  True : Binary\n",
      "        (5, 5) :     0 :  None :     1 : False :  True : Binary\n",
      "        (5, 6) :     0 :  None :     1 : False :  True : Binary\n",
      "        (6, 1) :     0 :  None :     1 : False :  True : Binary\n",
      "        (6, 2) :     0 :  None :     1 : False :  True : Binary\n",
      "        (6, 3) :     0 :  None :     1 : False :  True : Binary\n",
      "        (6, 4) :     0 :  None :     1 : False :  True : Binary\n",
      "        (6, 5) :     0 :  None :     1 : False :  True : Binary\n",
      "        (6, 6) :     0 :  None :     1 : False :  True : Binary\n",
      "\n",
      "1 Objective Declarations\n",
      "    objective : Size=1, Index=None, Active=True\n",
      "        Key  : Active : Sense    : Expression\n",
      "        None :   True : minimize : 999*x[1,1] + 10*x[1,2] + 15*x[1,3] + 22*x[1,4] + 47*x[1,5] + 48*x[1,6] + 10*x[2,1] + 999*x[2,2] + 17*x[2,3] + 25*x[2,4] + 51*x[2,5] + 51*x[2,6] + 15*x[3,1] + 17*x[3,2] + 999*x[3,3] + 10*x[3,4] + 32*x[3,5] + 30*x[3,6] + 22*x[4,1] + 25*x[4,2] + 10*x[4,3] + 999*x[4,4] + 29*x[4,5] + 25*x[4,6] + 47*x[5,1] + 51*x[5,2] + 32*x[5,3] + 29*x[5,4] + 999*x[5,5] + 10*x[5,6] + 48*x[6,1] + 51*x[6,2] + 30*x[6,3] + 25*x[6,4] + 10*x[6,5] + 999*x[6,6]\n",
      "\n",
      "3 Constraint Declarations\n",
      "    const1 : Size=6, Index=M, Active=True\n",
      "        Key : Lower : Body                                       : Upper : Active\n",
      "          1 :   1.0 : x[2,1] + x[3,1] + x[4,1] + x[5,1] + x[6,1] :   1.0 :   True\n",
      "          2 :   1.0 : x[1,2] + x[3,2] + x[4,2] + x[5,2] + x[6,2] :   1.0 :   True\n",
      "          3 :   1.0 : x[1,3] + x[2,3] + x[4,3] + x[5,3] + x[6,3] :   1.0 :   True\n",
      "          4 :   1.0 : x[1,4] + x[2,4] + x[3,4] + x[5,4] + x[6,4] :   1.0 :   True\n",
      "          5 :   1.0 : x[1,5] + x[2,5] + x[3,5] + x[4,5] + x[6,5] :   1.0 :   True\n",
      "          6 :   1.0 : x[1,6] + x[2,6] + x[3,6] + x[4,6] + x[5,6] :   1.0 :   True\n",
      "    rest2 : Size=6, Index=N, Active=True\n",
      "        Key : Lower : Body                                       : Upper : Active\n",
      "          1 :   1.0 : x[1,2] + x[1,3] + x[1,4] + x[1,5] + x[1,6] :   1.0 :   True\n",
      "          2 :   1.0 : x[2,1] + x[2,3] + x[2,4] + x[2,5] + x[2,6] :   1.0 :   True\n",
      "          3 :   1.0 : x[3,1] + x[3,2] + x[3,4] + x[3,5] + x[3,6] :   1.0 :   True\n",
      "          4 :   1.0 : x[4,1] + x[4,2] + x[4,3] + x[4,5] + x[4,6] :   1.0 :   True\n",
      "          5 :   1.0 : x[5,1] + x[5,2] + x[5,3] + x[5,4] + x[5,6] :   1.0 :   True\n",
      "          6 :   1.0 : x[6,1] + x[6,2] + x[6,3] + x[6,4] + x[6,5] :   1.0 :   True\n",
      "    rest3 : Size=30, Index=rest3_index, Active=True\n",
      "        Key    : Lower : Body                   : Upper : Active\n",
      "        (2, 1) :  -Inf : u[2] - u[1] + 6*x[2,1] :   5.0 :   True\n",
      "        (2, 2) :   0.0 :            u[2] - u[2] :   0.0 :   True\n",
      "        (2, 3) :  -Inf : u[2] - u[3] + 6*x[2,3] :   5.0 :   True\n",
      "        (2, 4) :  -Inf : u[2] - u[4] + 6*x[2,4] :   5.0 :   True\n",
      "        (2, 5) :  -Inf : u[2] - u[5] + 6*x[2,5] :   5.0 :   True\n",
      "        (2, 6) :  -Inf : u[2] - u[6] + 6*x[2,6] :   5.0 :   True\n",
      "        (3, 1) :  -Inf : u[3] - u[1] + 6*x[3,1] :   5.0 :   True\n",
      "        (3, 2) :  -Inf : u[3] - u[2] + 6*x[3,2] :   5.0 :   True\n",
      "        (3, 3) :   0.0 :            u[3] - u[3] :   0.0 :   True\n",
      "        (3, 4) :  -Inf : u[3] - u[4] + 6*x[3,4] :   5.0 :   True\n",
      "        (3, 5) :  -Inf : u[3] - u[5] + 6*x[3,5] :   5.0 :   True\n",
      "        (3, 6) :  -Inf : u[3] - u[6] + 6*x[3,6] :   5.0 :   True\n",
      "        (4, 1) :  -Inf : u[4] - u[1] + 6*x[4,1] :   5.0 :   True\n",
      "        (4, 2) :  -Inf : u[4] - u[2] + 6*x[4,2] :   5.0 :   True\n",
      "        (4, 3) :  -Inf : u[4] - u[3] + 6*x[4,3] :   5.0 :   True\n",
      "        (4, 4) :   0.0 :            u[4] - u[4] :   0.0 :   True\n",
      "        (4, 5) :  -Inf : u[4] - u[5] + 6*x[4,5] :   5.0 :   True\n",
      "        (4, 6) :  -Inf : u[4] - u[6] + 6*x[4,6] :   5.0 :   True\n",
      "        (5, 1) :  -Inf : u[5] - u[1] + 6*x[5,1] :   5.0 :   True\n",
      "        (5, 2) :  -Inf : u[5] - u[2] + 6*x[5,2] :   5.0 :   True\n",
      "        (5, 3) :  -Inf : u[5] - u[3] + 6*x[5,3] :   5.0 :   True\n",
      "        (5, 4) :  -Inf : u[5] - u[4] + 6*x[5,4] :   5.0 :   True\n",
      "        (5, 5) :   0.0 :            u[5] - u[5] :   0.0 :   True\n",
      "        (5, 6) :  -Inf : u[5] - u[6] + 6*x[5,6] :   5.0 :   True\n",
      "        (6, 1) :  -Inf : u[6] - u[1] + 6*x[6,1] :   5.0 :   True\n",
      "        (6, 2) :  -Inf : u[6] - u[2] + 6*x[6,2] :   5.0 :   True\n",
      "        (6, 3) :  -Inf : u[6] - u[3] + 6*x[6,3] :   5.0 :   True\n",
      "        (6, 4) :  -Inf : u[6] - u[4] + 6*x[6,4] :   5.0 :   True\n",
      "        (6, 5) :  -Inf : u[6] - u[5] + 6*x[6,5] :   5.0 :   True\n",
      "        (6, 6) :   0.0 :            u[6] - u[6] :   0.0 :   True\n",
      "\n",
      "13 Declarations: M N U x_index x u c_index c objective const1 rest2 rest3_index rest3\n"
     ]
    }
   ],
   "source": [
    "#Prints the entire model\n",
    "model.pprint()"
   ]
  },
  {
   "cell_type": "code",
   "execution_count": 17,
   "metadata": {},
   "outputs": [
    {
     "name": "stdout",
     "output_type": "stream",
     "text": [
      "\n",
      "Problem: \n",
      "- Name: tmp3k4wc4ks\n",
      "  Lower bound: 116.0\n",
      "  Upper bound: 116.0\n",
      "  Number of objectives: 1\n",
      "  Number of constraints: 43\n",
      "  Number of variables: 43\n",
      "  Number of nonzeros: 136\n",
      "  Sense: minimize\n",
      "Solver: \n",
      "- Status: ok\n",
      "  User time: 0.05\n",
      "  Termination condition: optimal\n",
      "  Termination message: MIP - Integer optimal solution\\x3a Objective = 1.1600000000e+02\n",
      "  Statistics: \n",
      "    Branch and bound: \n",
      "      Number of bounded subproblems: 0\n",
      "      Number of created subproblems: 0\n",
      "  Error rc: 0\n",
      "  Time: 0.1226198673248291\n",
      "Solution: \n",
      "- number of solutions: 0\n",
      "  number of solutions displayed: 0\n",
      "\n"
     ]
    }
   ],
   "source": [
    "#Solves\n",
    "solver = pyEnv.SolverFactory('cplex')\n",
    "result = solver.solve(model,tee = False)\n",
    "\n",
    "#Prints the results\n",
    "print(result)"
   ]
  },
  {
   "cell_type": "code",
   "execution_count": 18,
   "metadata": {},
   "outputs": [
    {
     "name": "stdout",
     "output_type": "stream",
     "text": [
      "(1, 2) -- 1.0\n",
      "(2, 3) -- 1.0\n",
      "(3, 5) -- 1.0\n",
      "(4, 1) -- 1.0\n",
      "(5, 6) -- 1.0\n",
      "(6, 4) -- 1.0\n"
     ]
    }
   ],
   "source": [
    "l = list(model.x.keys())\n",
    "for i in l:\n",
    "    if model.x[i]() != 0:\n",
    "        print(i,'--', model.x[i]())"
   ]
  },
  {
   "cell_type": "code",
   "execution_count": null,
   "metadata": {},
   "outputs": [],
   "source": []
  }
 ],
 "metadata": {
  "kernelspec": {
   "display_name": "Python 3",
   "language": "python",
   "name": "python3"
  },
  "language_info": {
   "codemirror_mode": {
    "name": "ipython",
    "version": 3
   },
   "file_extension": ".py",
   "mimetype": "text/x-python",
   "name": "python",
   "nbconvert_exporter": "python",
   "pygments_lexer": "ipython3",
   "version": "3.7.1"
  },
  "toc": {
   "base_numbering": 1,
   "nav_menu": {},
   "number_sections": true,
   "sideBar": true,
   "skip_h1_title": false,
   "title_cell": "Table of Contents",
   "title_sidebar": "Contents",
   "toc_cell": false,
   "toc_position": {},
   "toc_section_display": true,
   "toc_window_display": false
  }
 },
 "nbformat": 4,
 "nbformat_minor": 4
}
