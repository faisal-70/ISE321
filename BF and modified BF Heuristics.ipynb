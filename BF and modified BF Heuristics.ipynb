{
 "cells": [
  {
   "cell_type": "markdown",
   "metadata": {},
   "source": [
    "# BF Heuristic "
   ]
  },
  {
   "cell_type": "markdown",
   "metadata": {},
   "source": [
    "## Backward Phase"
   ]
  },
  {
   "cell_type": "code",
   "execution_count": 351,
   "metadata": {},
   "outputs": [],
   "source": [
    "import time # To calculate the computational time of each algorithm\n",
    "start_time = time.time() \n",
    "\n",
    "n = 5 # Number of jobs\n",
    "P = {1:24,2:13,3:32,4:9,5:3} # Processing times\n",
    "D  = {1:38,2:22,3:61,4:47,5:8} # Due dates\n",
    "E = {1:0,2:2,3:1,4:2,5:2} # Early penalties\n",
    "L = {1:2,2:6,3:6,4:2,5:2} # Late penalties\n",
    "T = sum(P.values()) # Sum of processing times for unscheduled jobs\n",
    "\n",
    "Penalty = {1:None,2:None,3:None,4:None,5:None}\n",
    "B_Sequence = []"
   ]
  },
  {
   "cell_type": "code",
   "execution_count": 352,
   "metadata": {},
   "outputs": [],
   "source": [
    "for i in range(n):\n",
    "\n",
    " # We update the total processing times for unscheduled jobs in each iteration\n",
    "\n",
    "    T = sum(P.values())\n",
    "\n",
    "\n",
    "    for i in range(n):\n",
    "        if T > D[i+1]:\n",
    "            \n",
    "            # Since in each iteration, we delete an element in Penalty, we have to make sure that (i+1) in Penalty\n",
    "            \n",
    "            if (i+1) in Penalty: # The late case\n",
    "                Penalty[i+1] = ((T-D[i+1])*L[i+1])\n",
    "        else:\n",
    "            if (i+1) in Penalty:# The early case\n",
    "                Penalty[i+1] = ((D[i+1]-T)*E[i+1])\n",
    "                \n",
    "    # Candidates invloves the jobs having the maximum penalty. If no tie exits, it will have only one element\n",
    "    # It's useful for the case when we have a tie\n",
    "\n",
    "    Candidates = {1:0,2:0,3:0,4:0,5:0}\n",
    "    for i in range(n):\n",
    "\n",
    "        if len(B_Sequence) == n: # If all the jobs are scheduled, we stop running\n",
    "            break\n",
    "        elif Penalty.get(i+1) == min(Penalty.values()):\n",
    "            \n",
    "            Candidates[i+1]= P[i+1]\n",
    "    \n",
    "\n",
    "    # Append the number of the job associated with the larget processing time\n",
    "    \n",
    "    Jop_with_largest_P = list(Candidates.keys())[list(Candidates.values()).index(max(Candidates.values()))]\n",
    "    B_Sequence.append(Jop_with_largest_P)\n",
    "    P.pop(Jop_with_largest_P)\n",
    "    Penalty.pop(Jop_with_largest_P)\n",
    "    \n",
    "    \n",
    "B_Sequence.reverse() # Unlike the algorithm, we were appending from left to right. So, we need to reverse"
   ]
  },
  {
   "cell_type": "code",
   "execution_count": 353,
   "metadata": {},
   "outputs": [
    {
     "data": {
      "text/plain": [
       "[5, 2, 1, 3, 4]"
      ]
     },
     "execution_count": 353,
     "metadata": {},
     "output_type": "execute_result"
    }
   ],
   "source": [
    "B_Sequence"
   ]
  },
  {
   "cell_type": "markdown",
   "metadata": {},
   "source": [
    "## Forward Phase"
   ]
  },
  {
   "cell_type": "code",
   "execution_count": 354,
   "metadata": {},
   "outputs": [],
   "source": [
    "def Calc_Pen(x):\n",
    "    \n",
    "    C = {0:0,1:0,2:0,3:0,4:0,5:0}\n",
    "    P = {1:24,2:13,3:32,4:9,5:3}\n",
    "\n",
    "    Penalty_f = []\n",
    "    for i in range(n):\n",
    "\n",
    "        C[i+1] = P.get(x[i]) + C[i]\n",
    "        if C[i+1] > D.get(x[i]):\n",
    "\n",
    "            Penalty_f.append(((C[i+1]-D.get(x[i]))*L.get(x[i]))) \n",
    "        else:\n",
    "            Penalty_f.append(((D.get(x[i])-C[i+1])*E.get(x[i])))\n",
    "   \n",
    "    total_pen = sum(Penalty_f)            \n",
    "    return total_pen  "
   ]
  },
  {
   "cell_type": "code",
   "execution_count": 355,
   "metadata": {},
   "outputs": [
    {
     "data": {
      "text/plain": [
       "160"
      ]
     },
     "execution_count": 355,
     "metadata": {},
     "output_type": "execute_result"
    }
   ],
   "source": [
    "Calc_Pen(B_Sequence)"
   ]
  },
  {
   "cell_type": "code",
   "execution_count": 356,
   "metadata": {},
   "outputs": [],
   "source": [
    "def swap(x,i,k):\n",
    "    x[i], x[i+k] = x[i+k], x[i]\n",
    "    return x\n"
   ]
  },
  {
   "cell_type": "code",
   "execution_count": 357,
   "metadata": {},
   "outputs": [],
   "source": [
    "k = n-1\n"
   ]
  },
  {
   "cell_type": "code",
   "execution_count": 358,
   "metadata": {},
   "outputs": [],
   "source": [
    "Total_Penalty = Calc_Pen(B_Sequence)\n",
    "\n",
    "# k represents the lag, j represents the position in the sequence\n",
    "\n",
    "j = 0\n",
    "\n",
    "while (j+k <= n-1): # The condition is to insure that the position of the switcing job j with lag k is possible\n",
    "    \n",
    "    swap(B_Sequence,j,k)\n",
    "    new_Penalty =  Calc_Pen(B_Sequence)\n",
    "    \n",
    "    # if we get a better sequence, we need to reset the lag k to n-1, and start switching from position 0\n",
    "    \n",
    "    if new_Penalty < Total_Penalty:\n",
    "        k = n-1\n",
    "        j = 0\n",
    "        Total_Penalty = new_Penalty\n",
    "    \n",
    "    else:\n",
    "       \n",
    "        # if we don't get a better sequence, we switch back to the previous sequence\n",
    "        \n",
    "        swap(B_Sequence,j,k)\n",
    "       \n",
    "        # if we have another swich with the same lag, we increment j by 1, and repeat the process. If k=0, we stop\n",
    "        \n",
    "        \n",
    "        #Otherwise, we decrement the lag by 1, and start switching from position 0\n",
    "        \n",
    "        if j+1+k > n-1:\n",
    "            \n",
    "            if k > 0:\n",
    "                k -= 1\n",
    "                j = 0\n",
    "            \n",
    "            else:\n",
    "                break\n",
    "                    \n",
    "        \n",
    "        else:\n",
    "            j+=1"
   ]
  },
  {
   "cell_type": "code",
   "execution_count": 359,
   "metadata": {},
   "outputs": [
    {
     "data": {
      "text/plain": [
       "0"
      ]
     },
     "execution_count": 359,
     "metadata": {},
     "output_type": "execute_result"
    }
   ],
   "source": [
    "k"
   ]
  },
  {
   "cell_type": "code",
   "execution_count": 360,
   "metadata": {},
   "outputs": [
    {
     "data": {
      "text/plain": [
       "141"
      ]
     },
     "execution_count": 360,
     "metadata": {},
     "output_type": "execute_result"
    }
   ],
   "source": [
    "Calc_Pen(B_Sequence)"
   ]
  },
  {
   "cell_type": "code",
   "execution_count": 361,
   "metadata": {},
   "outputs": [
    {
     "data": {
      "text/plain": [
       "[5, 2, 3, 4, 1]"
      ]
     },
     "execution_count": 361,
     "metadata": {},
     "output_type": "execute_result"
    }
   ],
   "source": [
    "B_Sequence"
   ]
  },
  {
   "cell_type": "code",
   "execution_count": 362,
   "metadata": {},
   "outputs": [
    {
     "name": "stdout",
     "output_type": "stream",
     "text": [
      "Time taken = 2.5698113441467285  seconds\n"
     ]
    }
   ],
   "source": [
    "print('Time taken = %s  seconds' %(time.time()-start_time))"
   ]
  },
  {
   "cell_type": "markdown",
   "metadata": {},
   "source": [
    "# Modified BF Heuristic "
   ]
  },
  {
   "cell_type": "markdown",
   "metadata": {},
   "source": [
    "## Modified Backward Phase"
   ]
  },
  {
   "cell_type": "code",
   "execution_count": 363,
   "metadata": {},
   "outputs": [],
   "source": [
    "start_time = time.time() \n",
    "n = 5 # Number of jobs\n",
    "P = {1:24,2:13,3:32,4:9,5:3} # Processing times\n",
    "D  = {1:38,2:22,3:61,4:47,5:8} # Due dates\n",
    "E = {1:0,2:2,3:1,4:2,5:2} # Early penalties\n",
    "L = {1:2,2:6,3:6,4:2,5:2} # Late penalties\n",
    "T = sum(P.values()) # Sum of processing times for unscheduled jobs\n",
    "\n",
    "Penalty = {1:None,2:None,3:None,4:None,5:None}\n",
    "B_Sequence = []"
   ]
  },
  {
   "cell_type": "code",
   "execution_count": 364,
   "metadata": {},
   "outputs": [],
   "source": [
    "for i in range(n):\n",
    "    \n",
    "    # We update the total processing times for unscheduled jobs in each iteration\n",
    "    \n",
    "    T = sum(P.values())\n",
    "\n",
    "\n",
    "    for i in range(n):\n",
    "        if T > D[i+1]: # The late case\n",
    "            \n",
    "            # Since in each iteration, we delete an element in Penalty, we have to make sure that (i+1) in Penalty\n",
    "            \n",
    "            if (i+1) in Penalty:\n",
    "                \n",
    "                # For the late penalty, we will have negative results, which makes it easier the apply the algorithm\n",
    "                # just by taking the maximum penalty in each iteration\n",
    "                \n",
    "                Penalty[i+1] = ((D[i+1]-T)*L[i+1])\n",
    "                \n",
    "        else: # The early case\n",
    "            if (i+1) in Penalty:\n",
    "                Penalty[i+1] = ((D[i+1]-T)*E[i+1])\n",
    "\n",
    "    # Candidates invloves the jobs having the maximum penalty. If no tie exits, it will have only one element\n",
    "    # It's useful for the case when we have a tie\n",
    "\n",
    "    Candidates = {1:0,2:0,3:0,4:0,5:0}\n",
    "    for i in range(n):\n",
    "\n",
    "        if len(B_Sequence) == n: # If all the jobs are scheduled, we stop running\n",
    "            break\n",
    "        elif Penalty.get(i+1) == max(Penalty.values()):\n",
    "            \n",
    "            Candidates[i+1]= P[i+1]\n",
    "    \n",
    "\n",
    "    # Append the number of the job associated with the larget processing time\n",
    "    \n",
    "    Jop_with_largest_P = list(Candidates.keys())[list(Candidates.values()).index(max(Candidates.values()))]\n",
    "    B_Sequence.append(Jop_with_largest_P)\n",
    "    P.pop(Jop_with_largest_P)\n",
    "    Penalty.pop(Jop_with_largest_P)\n",
    "    \n",
    "    \n",
    "B_Sequence.reverse() # Unlike the algorithm, we were appending from left to right. So, we need to reverse"
   ]
  },
  {
   "cell_type": "code",
   "execution_count": 365,
   "metadata": {},
   "outputs": [
    {
     "data": {
      "text/plain": [
       "[5, 2, 1, 3, 4]"
      ]
     },
     "execution_count": 365,
     "metadata": {},
     "output_type": "execute_result"
    }
   ],
   "source": [
    "B_Sequence"
   ]
  },
  {
   "cell_type": "markdown",
   "metadata": {},
   "source": [
    "## Forward Phase"
   ]
  },
  {
   "cell_type": "markdown",
   "metadata": {},
   "source": [
    "#### Same as in the Backward-Forward Heuristic "
   ]
  },
  {
   "cell_type": "code",
   "execution_count": 366,
   "metadata": {},
   "outputs": [],
   "source": [
    "def Calc_Pen(x):\n",
    "    \n",
    "    C = {0:0,1:0,2:0,3:0,4:0,5:0}\n",
    "    P = {1:24,2:13,3:32,4:9,5:3}\n",
    "\n",
    "    Penalty_f = []\n",
    "    for i in range(n):\n",
    "\n",
    "        C[i+1] = P.get(x[i]) + C[i]\n",
    "        if C[i+1] > D.get(x[i]):\n",
    "\n",
    "            Penalty_f.append(((C[i+1]-D.get(x[i]))*L.get(x[i]))) \n",
    "        else:\n",
    "            Penalty_f.append(((D.get(x[i])-C[i+1])*E.get(x[i])))\n",
    "   \n",
    "    total_pen = sum(Penalty_f)            \n",
    "    return total_pen  "
   ]
  },
  {
   "cell_type": "code",
   "execution_count": 367,
   "metadata": {},
   "outputs": [
    {
     "data": {
      "text/plain": [
       "160"
      ]
     },
     "execution_count": 367,
     "metadata": {},
     "output_type": "execute_result"
    }
   ],
   "source": [
    "Calc_Pen(B_Sequence)"
   ]
  },
  {
   "cell_type": "code",
   "execution_count": 368,
   "metadata": {},
   "outputs": [],
   "source": [
    "def swap(x,i,k):\n",
    "    x[i], x[i+k] = x[i+k], x[i]\n",
    "    return x"
   ]
  },
  {
   "cell_type": "code",
   "execution_count": 369,
   "metadata": {},
   "outputs": [],
   "source": [
    "k = n-1"
   ]
  },
  {
   "cell_type": "code",
   "execution_count": 370,
   "metadata": {},
   "outputs": [],
   "source": [
    "Total_Penalty = Calc_Pen(B_Sequence)\n",
    "\n",
    "# k represents the lag, j represents the position in the sequence\n",
    "\n",
    "j = 0\n",
    "\n",
    "while (j+k <= n-1): # The condition is to insure that the position of the switcing job j with lag k is possible\n",
    "    \n",
    "    swap(B_Sequence,j,k)\n",
    "    new_Penalty =  Calc_Pen(B_Sequence)\n",
    "    \n",
    "    # if we get a better sequence, we need to reset the lag k to n-1, and start switching from position 0\n",
    "    \n",
    "    if new_Penalty < Total_Penalty:\n",
    "        k = n-1\n",
    "        j = 0\n",
    "        Total_Penalty = new_Penalty\n",
    "    \n",
    "    else:\n",
    "       \n",
    "        # if we don't get a better sequence, we switch back to the previous sequence\n",
    "        \n",
    "        swap(B_Sequence,j,k)\n",
    "       \n",
    "        # if we have another swich with the same lag, we increment j by 1, and repeat the process. If k=0, we stop\n",
    "        \n",
    "        \n",
    "        #Otherwise, we decrement the lag by 1, and start switching from position 0\n",
    "        \n",
    "        if j+1+k > n-1:\n",
    "            \n",
    "            if k > 0:\n",
    "                k -= 1\n",
    "                j = 0\n",
    "            \n",
    "            else:\n",
    "                break\n",
    "                    \n",
    "        \n",
    "        else:\n",
    "            j+=1"
   ]
  },
  {
   "cell_type": "code",
   "execution_count": 371,
   "metadata": {},
   "outputs": [
    {
     "data": {
      "text/plain": [
       "0"
      ]
     },
     "execution_count": 371,
     "metadata": {},
     "output_type": "execute_result"
    }
   ],
   "source": [
    "k"
   ]
  },
  {
   "cell_type": "code",
   "execution_count": 372,
   "metadata": {},
   "outputs": [
    {
     "data": {
      "text/plain": [
       "141"
      ]
     },
     "execution_count": 372,
     "metadata": {},
     "output_type": "execute_result"
    }
   ],
   "source": [
    "Calc_Pen(B_Sequence)"
   ]
  },
  {
   "cell_type": "code",
   "execution_count": 373,
   "metadata": {},
   "outputs": [
    {
     "data": {
      "text/plain": [
       "[5, 2, 3, 4, 1]"
      ]
     },
     "execution_count": 373,
     "metadata": {},
     "output_type": "execute_result"
    }
   ],
   "source": [
    "B_Sequence"
   ]
  },
  {
   "cell_type": "code",
   "execution_count": 374,
   "metadata": {},
   "outputs": [
    {
     "name": "stdout",
     "output_type": "stream",
     "text": [
      "Time taken = 2.2832558155059814  seconds\n"
     ]
    }
   ],
   "source": [
    "print('Time taken = %s  seconds' %(time.time()-start_time))"
   ]
  },
  {
   "cell_type": "markdown",
   "metadata": {},
   "source": [
    "### Conclusion"
   ]
  },
  {
   "cell_type": "markdown",
   "metadata": {},
   "source": [
    "In terms of the qualty of the obtained solution, we got the same final solution, and in terms of the computational effort, both had similar time taken with very slight difference. So, the two algorithms performed the same in terms of the quality and computational effort"
   ]
  }
 ],
 "metadata": {
  "kernelspec": {
   "display_name": "Python 3",
   "language": "python",
   "name": "python3"
  },
  "language_info": {
   "codemirror_mode": {
    "name": "ipython",
    "version": 3
   },
   "file_extension": ".py",
   "mimetype": "text/x-python",
   "name": "python",
   "nbconvert_exporter": "python",
   "pygments_lexer": "ipython3",
   "version": "3.7.1"
  }
 },
 "nbformat": 4,
 "nbformat_minor": 5
}
