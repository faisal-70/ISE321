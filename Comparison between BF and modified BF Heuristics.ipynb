{
 "cells": [
  {
   "cell_type": "markdown",
   "id": "0e664cae",
   "metadata": {},
   "source": [
    "# Comparison between the BF and Modified BF Heuristics"
   ]
  },
  {
   "cell_type": "markdown",
   "id": "2e0bb029",
   "metadata": {},
   "source": [
    "# Group Members"
   ]
  },
  {
   "cell_type": "markdown",
   "id": "c1cfa90a",
   "metadata": {},
   "source": [
    "### 1- Faisal Alzahrani\n",
    "### 2- Rashed Abudujen\n",
    "### 3- Mohammed Alwehaibi"
   ]
  },
  {
   "cell_type": "markdown",
   "id": "1a84326f",
   "metadata": {},
   "source": [
    "# Introduction"
   ]
  },
  {
   "cell_type": "markdown",
   "id": "a97238f2",
   "metadata": {},
   "source": [
    "In this report, we are going to compare the backward-forward algorithm with the modified backward-forward algorithm to see which one has a better quality, and less computational effort. Also, we will test the two algorithms with given inputs to see how they compare to the optimal solution"
   ]
  },
  {
   "cell_type": "markdown",
   "id": "aec1b989",
   "metadata": {},
   "source": [
    "# BF Heuristic "
   ]
  },
  {
   "cell_type": "markdown",
   "id": "d5ab5112",
   "metadata": {},
   "source": [
    "## Backward Phase"
   ]
  },
  {
   "cell_type": "code",
   "execution_count": 208,
   "id": "459fdd99",
   "metadata": {},
   "outputs": [],
   "source": [
    "import time # To calculate the computational time of each algorithm\n",
    "start_time = time.time() \n",
    "\n",
    "n = 5 # Number of jobs\n",
    "P = {1:24,2:13,3:32,4:9,5:3} # Processing times\n",
    "D  = {1:38,2:22,3:61,4:47,5:8} # Due dates\n",
    "E = {1:0,2:2,3:1,4:2,5:2} # Early penalties\n",
    "L = {1:2,2:6,3:6,4:2,5:2} # Late penalties\n",
    "T = sum(P.values()) # Sum of processing times for unscheduled jobs\n",
    "\n",
    "Penalty = {1:None,2:None,3:None,4:None,5:None}\n",
    "B_Sequence = []"
   ]
  },
  {
   "cell_type": "code",
   "execution_count": 209,
   "id": "061a2739",
   "metadata": {},
   "outputs": [],
   "source": [
    "num_iterations_backward = 0\n",
    "\n",
    "for i in range(n):\n",
    "\n",
    " # We update the total processing times for unscheduled jobs in each iteration\n",
    "\n",
    "    T = sum(P.values())\n",
    "\n",
    "\n",
    "    for i in range(n):\n",
    "        if T > D[i+1]:\n",
    "            \n",
    "            # Since in each iteration, we delete an element in Penalty, we have to make sure that (i+1) in Penalty\n",
    "            \n",
    "            if (i+1) in Penalty: # The late case\n",
    "                Penalty[i+1] = ((T-D[i+1])*L[i+1])\n",
    "        else:\n",
    "            if (i+1) in Penalty:# The early case\n",
    "                Penalty[i+1] = ((D[i+1]-T)*E[i+1])\n",
    "                \n",
    "    # Candidates invloves the jobs having the maximum penalty. If no tie exits, it will have only one element\n",
    "    # It's useful for the case when we have a tie\n",
    "\n",
    "    Candidates = {1:0,2:0,3:0,4:0,5:0}\n",
    "    for i in range(n):\n",
    "\n",
    "        if len(B_Sequence) == n: # If all the jobs are scheduled, we stop running\n",
    "            break\n",
    "        elif Penalty.get(i+1) == min(Penalty.values()):\n",
    "            \n",
    "            Candidates[i+1]= P[i+1]\n",
    "            \n",
    "        num_iterations_backward +=1\n",
    "\n",
    "\n",
    "    # Append the number of the job associated with the larget processing time\n",
    "    \n",
    "    Jop_with_largest_P = list(Candidates.keys())[list(Candidates.values()).index(max(Candidates.values()))]\n",
    "    B_Sequence.append(Jop_with_largest_P)\n",
    "    P.pop(Jop_with_largest_P)\n",
    "    Penalty.pop(Jop_with_largest_P)\n",
    "    \n",
    "    \n",
    "B_Sequence.reverse() # Unlike the algorithm, we were appending from left to right. So, we need to reverse"
   ]
  },
  {
   "cell_type": "code",
   "execution_count": 210,
   "id": "3fc3a5df",
   "metadata": {},
   "outputs": [
    {
     "data": {
      "text/plain": [
       "25"
      ]
     },
     "execution_count": 210,
     "metadata": {},
     "output_type": "execute_result"
    }
   ],
   "source": [
    "num_iterations_backward"
   ]
  },
  {
   "cell_type": "code",
   "execution_count": 211,
   "id": "23106076",
   "metadata": {},
   "outputs": [
    {
     "data": {
      "text/plain": [
       "[5, 2, 1, 3, 4]"
      ]
     },
     "execution_count": 211,
     "metadata": {},
     "output_type": "execute_result"
    }
   ],
   "source": [
    "B_Sequence"
   ]
  },
  {
   "cell_type": "markdown",
   "id": "62251089",
   "metadata": {},
   "source": [
    "## Forward Phase"
   ]
  },
  {
   "cell_type": "code",
   "execution_count": 212,
   "id": "2e10dfc8",
   "metadata": {},
   "outputs": [],
   "source": [
    "def Calc_Pen(x):\n",
    "    \n",
    "    C = {0:0,1:0,2:0,3:0,4:0,5:0}\n",
    "    P = {1:24,2:13,3:32,4:9,5:3}\n",
    "\n",
    "    Penalty_f = []\n",
    "    for i in range(n):\n",
    "\n",
    "        C[i+1] = P.get(x[i]) + C[i]\n",
    "        if C[i+1] > D.get(x[i]):\n",
    "\n",
    "            Penalty_f.append(((C[i+1]-D.get(x[i]))*L.get(x[i]))) \n",
    "        else:\n",
    "            Penalty_f.append(((D.get(x[i])-C[i+1])*E.get(x[i])))\n",
    "   \n",
    "    total_pen = sum(Penalty_f)            \n",
    "    return total_pen  "
   ]
  },
  {
   "cell_type": "code",
   "execution_count": 213,
   "id": "f87ea6b7",
   "metadata": {},
   "outputs": [
    {
     "data": {
      "text/plain": [
       "160"
      ]
     },
     "execution_count": 213,
     "metadata": {},
     "output_type": "execute_result"
    }
   ],
   "source": [
    "Calc_Pen(B_Sequence)"
   ]
  },
  {
   "cell_type": "code",
   "execution_count": 214,
   "id": "3bb253b3",
   "metadata": {},
   "outputs": [],
   "source": [
    "def swap(x,i,k):\n",
    "    x[i], x[i+k] = x[i+k], x[i]\n",
    "    return x\n"
   ]
  },
  {
   "cell_type": "code",
   "execution_count": 215,
   "id": "a8dcef12",
   "metadata": {},
   "outputs": [],
   "source": [
    "k = n-1\n"
   ]
  },
  {
   "cell_type": "code",
   "execution_count": 216,
   "id": "b71e1773",
   "metadata": {},
   "outputs": [],
   "source": [
    "Total_Penalty = Calc_Pen(B_Sequence)\n",
    "num_iterations_forward = 0\n",
    "# k represents the lag, j represents the position in the sequence\n",
    "\n",
    "j = 0\n",
    "\n",
    "while (j+k <= n-1): # The condition is to insure that the position of the switcing job j with lag k is possible\n",
    "    \n",
    "    swap(B_Sequence,j,k)\n",
    "    new_Penalty =  Calc_Pen(B_Sequence)\n",
    "    \n",
    "    # if we get a better sequence, we need to reset the lag k to n-1, and start switching from position 0\n",
    "    \n",
    "    if new_Penalty < Total_Penalty:\n",
    "        k = n-1\n",
    "        j = 0\n",
    "        Total_Penalty = new_Penalty\n",
    "    \n",
    "    else:\n",
    "       \n",
    "        # if we don't get a better sequence, we switch back to the previous sequence\n",
    "        \n",
    "        swap(B_Sequence,j,k)\n",
    "       \n",
    "        # if we have another swich with the same lag, we increment j by 1, and repeat the process. If k=0, we stop\n",
    "        \n",
    "        \n",
    "        #Otherwise, we decrement the lag by 1, and start switching from position 0\n",
    "        \n",
    "        if j+1+k > n-1:\n",
    "            \n",
    "            if k > 0:\n",
    "                k -= 1\n",
    "                j = 0\n",
    "            \n",
    "            else:\n",
    "                break\n",
    "                    \n",
    "        \n",
    "        else:\n",
    "            j+=1\n",
    "            \n",
    "    num_iterations_forward += 1"
   ]
  },
  {
   "cell_type": "code",
   "execution_count": 217,
   "id": "8d5f47d9",
   "metadata": {},
   "outputs": [
    {
     "data": {
      "text/plain": [
       "29"
      ]
     },
     "execution_count": 217,
     "metadata": {},
     "output_type": "execute_result"
    }
   ],
   "source": [
    "num_iterations_forward"
   ]
  },
  {
   "cell_type": "code",
   "execution_count": 218,
   "id": "34959485",
   "metadata": {},
   "outputs": [
    {
     "data": {
      "text/plain": [
       "0"
      ]
     },
     "execution_count": 218,
     "metadata": {},
     "output_type": "execute_result"
    }
   ],
   "source": [
    "k"
   ]
  },
  {
   "cell_type": "code",
   "execution_count": 219,
   "id": "d909171e",
   "metadata": {},
   "outputs": [
    {
     "data": {
      "text/plain": [
       "141"
      ]
     },
     "execution_count": 219,
     "metadata": {},
     "output_type": "execute_result"
    }
   ],
   "source": [
    "Calc_Pen(B_Sequence)"
   ]
  },
  {
   "cell_type": "code",
   "execution_count": 220,
   "id": "770ba00e",
   "metadata": {},
   "outputs": [
    {
     "data": {
      "text/plain": [
       "[5, 2, 3, 4, 1]"
      ]
     },
     "execution_count": 220,
     "metadata": {},
     "output_type": "execute_result"
    }
   ],
   "source": [
    "B_Sequence"
   ]
  },
  {
   "cell_type": "code",
   "execution_count": 221,
   "id": "fae91f7d",
   "metadata": {},
   "outputs": [
    {
     "name": "stdout",
     "output_type": "stream",
     "text": [
      "Time taken = 1.8416697978973389  seconds\n"
     ]
    }
   ],
   "source": [
    "print('Time taken = %s  seconds' %(time.time()-start_time))"
   ]
  },
  {
   "cell_type": "markdown",
   "id": "4d9b9c0a",
   "metadata": {},
   "source": [
    "# Modified BF Heuristic "
   ]
  },
  {
   "cell_type": "markdown",
   "id": "e921c991",
   "metadata": {},
   "source": [
    "## Modified Backward Phase"
   ]
  },
  {
   "cell_type": "code",
   "execution_count": 222,
   "id": "130ccd6f",
   "metadata": {},
   "outputs": [],
   "source": [
    "start_time = time.time() \n",
    "n = 5 # Number of jobs\n",
    "P = {1:24,2:13,3:32,4:9,5:3} # Processing times\n",
    "D  = {1:38,2:22,3:61,4:47,5:8} # Due dates\n",
    "E = {1:0,2:2,3:1,4:2,5:2} # Early penalties\n",
    "L = {1:2,2:6,3:6,4:2,5:2} # Late penalties\n",
    "T = sum(P.values()) # Sum of processing times for unscheduled jobs\n",
    "\n",
    "Penalty = {1:None,2:None,3:None,4:None,5:None}\n",
    "B_Sequence = []"
   ]
  },
  {
   "cell_type": "code",
   "execution_count": 223,
   "id": "b2477bc1",
   "metadata": {},
   "outputs": [],
   "source": [
    "num_iterations_mod_back = 0\n",
    "\n",
    "for i in range(n):\n",
    "    \n",
    "    # We update the total processing times for unscheduled jobs in each iteration\n",
    "    \n",
    "    T = sum(P.values())\n",
    "\n",
    "\n",
    "    for i in range(n):\n",
    "        if T > D[i+1]: # The late case\n",
    "            \n",
    "            # Since in each iteration, we delete an element in Penalty, we have to make sure that (i+1) in Penalty\n",
    "            \n",
    "            if (i+1) in Penalty:\n",
    "                \n",
    "                # For the late penalty, we will have negative results, which makes it easier the apply the algorithm\n",
    "                # just by taking the maximum penalty in each iteration\n",
    "                \n",
    "                Penalty[i+1] = ((D[i+1]-T)*L[i+1])\n",
    "                \n",
    "        else: # The early case\n",
    "            if (i+1) in Penalty:\n",
    "                Penalty[i+1] = ((D[i+1]-T)*E[i+1])\n",
    "\n",
    "    # Candidates invloves the jobs having the maximum penalty. If no tie exits, it will have only one element\n",
    "    # It's useful for the case when we have a tie\n",
    "\n",
    "    Candidates = {1:0,2:0,3:0,4:0,5:0}\n",
    "    for i in range(n):\n",
    "\n",
    "        if len(B_Sequence) == n: # If all the jobs are scheduled, we stop running\n",
    "            break\n",
    "        elif Penalty.get(i+1) == max(Penalty.values()):\n",
    "            \n",
    "            Candidates[i+1]= P[i+1]\n",
    "    \n",
    "        num_iterations_mod_back +=1\n",
    "\n",
    "    # Append the number of the job associated with the larget processing time\n",
    "    \n",
    "    Jop_with_largest_P = list(Candidates.keys())[list(Candidates.values()).index(max(Candidates.values()))]\n",
    "    B_Sequence.append(Jop_with_largest_P)\n",
    "    P.pop(Jop_with_largest_P)\n",
    "    Penalty.pop(Jop_with_largest_P)\n",
    "    \n",
    "    \n",
    "B_Sequence.reverse() # Unlike the algorithm, we were appending from left to right. So, we need to reverse"
   ]
  },
  {
   "cell_type": "code",
   "execution_count": 224,
   "id": "8d4df8f9",
   "metadata": {},
   "outputs": [
    {
     "data": {
      "text/plain": [
       "25"
      ]
     },
     "execution_count": 224,
     "metadata": {},
     "output_type": "execute_result"
    }
   ],
   "source": [
    "num_iterations_mod_back"
   ]
  },
  {
   "cell_type": "code",
   "execution_count": 225,
   "id": "7f0d0d54",
   "metadata": {},
   "outputs": [
    {
     "data": {
      "text/plain": [
       "[5, 2, 1, 3, 4]"
      ]
     },
     "execution_count": 225,
     "metadata": {},
     "output_type": "execute_result"
    }
   ],
   "source": [
    "B_Sequence"
   ]
  },
  {
   "cell_type": "markdown",
   "id": "328909b3",
   "metadata": {},
   "source": [
    "## Forward Phase"
   ]
  },
  {
   "cell_type": "markdown",
   "id": "62ef6da1",
   "metadata": {},
   "source": [
    "#### Same as in the Backward-Forward Heuristic "
   ]
  },
  {
   "cell_type": "code",
   "execution_count": 226,
   "id": "2ec9cf5c",
   "metadata": {},
   "outputs": [],
   "source": [
    "def Calc_Pen(x):\n",
    "    \n",
    "    C = {0:0,1:0,2:0,3:0,4:0,5:0}\n",
    "    P = {1:24,2:13,3:32,4:9,5:3}\n",
    "\n",
    "    Penalty_f = []\n",
    "    for i in range(n):\n",
    "\n",
    "        C[i+1] = P.get(x[i]) + C[i]\n",
    "        if C[i+1] > D.get(x[i]):\n",
    "\n",
    "            Penalty_f.append(((C[i+1]-D.get(x[i]))*L.get(x[i]))) \n",
    "        else:\n",
    "            Penalty_f.append(((D.get(x[i])-C[i+1])*E.get(x[i])))\n",
    "   \n",
    "    total_pen = sum(Penalty_f)            \n",
    "    return total_pen  "
   ]
  },
  {
   "cell_type": "code",
   "execution_count": 227,
   "id": "99afa05d",
   "metadata": {},
   "outputs": [
    {
     "data": {
      "text/plain": [
       "160"
      ]
     },
     "execution_count": 227,
     "metadata": {},
     "output_type": "execute_result"
    }
   ],
   "source": [
    "Calc_Pen(B_Sequence)"
   ]
  },
  {
   "cell_type": "code",
   "execution_count": 228,
   "id": "5922064c",
   "metadata": {},
   "outputs": [],
   "source": [
    "def swap(x,i,k):\n",
    "    x[i], x[i+k] = x[i+k], x[i]\n",
    "    return x"
   ]
  },
  {
   "cell_type": "code",
   "execution_count": 229,
   "id": "4a06c2b4",
   "metadata": {},
   "outputs": [],
   "source": [
    "k = n-1"
   ]
  },
  {
   "cell_type": "code",
   "execution_count": 230,
   "id": "37761597",
   "metadata": {},
   "outputs": [],
   "source": [
    "Total_Penalty = Calc_Pen(B_Sequence)\n",
    "\n",
    "# k represents the lag, j represents the position in the sequence\n",
    "\n",
    "j = 0\n",
    "\n",
    "while (j+k <= n-1): # The condition is to insure that the position of the switcing job j with lag k is possible\n",
    "    \n",
    "    swap(B_Sequence,j,k)\n",
    "    new_Penalty =  Calc_Pen(B_Sequence)\n",
    "    \n",
    "    # if we get a better sequence, we need to reset the lag k to n-1, and start switching from position 0\n",
    "    \n",
    "    if new_Penalty < Total_Penalty:\n",
    "        k = n-1\n",
    "        j = 0\n",
    "        Total_Penalty = new_Penalty\n",
    "    \n",
    "    else:\n",
    "       \n",
    "        # if we don't get a better sequence, we switch back to the previous sequence\n",
    "        \n",
    "        swap(B_Sequence,j,k)\n",
    "       \n",
    "        # if we have another swich with the same lag, we increment j by 1, and repeat the process. If k=0, we stop\n",
    "        \n",
    "        \n",
    "        #Otherwise, we decrement the lag by 1, and start switching from position 0\n",
    "        \n",
    "        if j+1+k > n-1:\n",
    "            \n",
    "            if k > 0:\n",
    "                k -= 1\n",
    "                j = 0\n",
    "            \n",
    "            else:\n",
    "                break\n",
    "                    \n",
    "        \n",
    "        else:\n",
    "            j+=1"
   ]
  },
  {
   "cell_type": "code",
   "execution_count": 231,
   "id": "380c3a08",
   "metadata": {},
   "outputs": [
    {
     "data": {
      "text/plain": [
       "0"
      ]
     },
     "execution_count": 231,
     "metadata": {},
     "output_type": "execute_result"
    }
   ],
   "source": [
    "k"
   ]
  },
  {
   "cell_type": "code",
   "execution_count": 232,
   "id": "e14f535f",
   "metadata": {},
   "outputs": [
    {
     "data": {
      "text/plain": [
       "141"
      ]
     },
     "execution_count": 232,
     "metadata": {},
     "output_type": "execute_result"
    }
   ],
   "source": [
    "Calc_Pen(B_Sequence)"
   ]
  },
  {
   "cell_type": "code",
   "execution_count": 233,
   "id": "ee0f37e5",
   "metadata": {},
   "outputs": [
    {
     "data": {
      "text/plain": [
       "[5, 2, 3, 4, 1]"
      ]
     },
     "execution_count": 233,
     "metadata": {},
     "output_type": "execute_result"
    }
   ],
   "source": [
    "B_Sequence"
   ]
  },
  {
   "cell_type": "code",
   "execution_count": 234,
   "id": "ce29f6bd",
   "metadata": {},
   "outputs": [
    {
     "name": "stdout",
     "output_type": "stream",
     "text": [
      "Time taken = 1.9430136680603027  seconds\n"
     ]
    }
   ],
   "source": [
    "print('Time taken = %s  seconds' %(time.time()-start_time))"
   ]
  },
  {
   "cell_type": "markdown",
   "id": "c44e499f",
   "metadata": {},
   "source": [
    "## Global Optimal Solution"
   ]
  },
  {
   "cell_type": "code",
   "execution_count": 235,
   "id": "8b894a46",
   "metadata": {},
   "outputs": [],
   "source": [
    "Penalty = Calc_Pen([1,2,3,4,5])\n",
    "iterations = 0\n",
    "for i in range(n):\n",
    "    for j in range(n):\n",
    "        if j != i:\n",
    "            for k in range(n):\n",
    "                if k != i and k != j:\n",
    "                    for l in range(n):\n",
    "                        if l != i and l!= j and l!= k:\n",
    "                            for m in range(n):\n",
    "                                if m != i and m!= j and m!= k and m!=l:\n",
    "                                    Pen = Calc_Pen([i+1,j+1,k+1,l+1,m+1])\n",
    "                                    if Pen < Penalty:\n",
    "                                        Penalty = Pen\n",
    "                                        Opt_Seq = [i+1,j+1,k+1,l+1,m+1]\n",
    "                                    iterations += 1"
   ]
  },
  {
   "cell_type": "code",
   "execution_count": 236,
   "id": "ff653ea5",
   "metadata": {},
   "outputs": [
    {
     "name": "stdout",
     "output_type": "stream",
     "text": [
      "Best penalty is 141 which is associated with the Sequence: [5, 2, 3, 4, 1] with number of iterations =  120\n"
     ]
    }
   ],
   "source": [
    "print(\"Best penalty is\", Penalty, \"which is associated with the Sequence:\", Opt_Seq, \"with number of iterations = \", iterations)"
   ]
  },
  {
   "cell_type": "markdown",
   "id": "1feb204a",
   "metadata": {},
   "source": [
    "# Conclusion"
   ]
  },
  {
   "cell_type": "markdown",
   "id": "86c66db7",
   "metadata": {},
   "source": [
    "In terms of the qualty of the obtained solution, we got the same final solution, which is equivalent to the optimal solution, and in terms of the computational effort, both had similar time taken with very slight difference. Also, we got the same number of iterations in both the backward and modified backward phase, which is 25 iterations, and same number of iterations in the forward phase, which is 29. So, total number of iterations to get the final soluton was 54. In order to get the global optimal solution we needed 120 iterations, which is considerably higher than the BF and Modified BF heuristics. In conclusion, the two algorithms performed the same in terms of the quality and computational effort, and both of them provided the optimal solution"
   ]
  }
 ],
 "metadata": {
  "kernelspec": {
   "display_name": "Python 3 (ipykernel)",
   "language": "python",
   "name": "python3"
  },
  "language_info": {
   "codemirror_mode": {
    "name": "ipython",
    "version": 3
   },
   "file_extension": ".py",
   "mimetype": "text/x-python",
   "name": "python",
   "nbconvert_exporter": "python",
   "pygments_lexer": "ipython3",
   "version": "3.8.13"
  }
 },
 "nbformat": 4,
 "nbformat_minor": 5
}
